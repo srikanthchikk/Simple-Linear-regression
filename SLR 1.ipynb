{
 "cells": [
  {
   "cell_type": "markdown",
   "metadata": {
    "id": "mRxhsyQz1ehC"
   },
   "source": [
    "**Simple linear regression Calories.Consumed problem .**\n",
    "\n",
    "A certain food based company conducted a survey with the help of a fitness company spread across the country to find  relationship between a person’s weight gain and the no of calories consumed by them in order to come up a diet plan for individuals that fall under different weight groups. Approach - A Simple Linear regression model needs to be built with target variable ‘Calories.Consumed’."
   ]
  },
  {
   "cell_type": "markdown",
   "metadata": {
    "id": "ChVsR8s240bC"
   },
   "source": [
    "**In this problem we have to record RMSE values, Correlation coefficient values for different transform models.**"
   ]
  },
  {
   "cell_type": "markdown",
   "metadata": {
    "id": "QJLbkBD8tiH_"
   },
   "source": [
    "Business objective: To find the correlation coefficient values.\n",
    "\n",
    "\n",
    "Constraints: \n",
    "         1.Estimate the parameters of the model.\n",
    "2.Perform statistical inferences on these parameters."
   ]
  },
  {
   "cell_type": "markdown",
   "metadata": {
    "id": "sB8suXiE5d4n"
   },
   "source": [
    "At first,we need to understand the data and hence we load the same and the libraries required"
   ]
  },
  {
   "cell_type": "code",
   "execution_count": null,
   "metadata": {
    "id": "ZQNqj2xdkQSe"
   },
   "outputs": [],
   "source": [
    "# Importing necessary libraries\n",
    "import pandas as pd # deals with data frame        # for Data Manipulation\\n\",\n",
    "import numpy as np  # deals with numerical values  # for Mathematical calculations\\n\",\n",
    "\n",
    "wcat = pd.read_csv(D:/7 data mining/supervised/linear regresstion/assignment/calories_consumed.csv\")\n",
    "\n",
    "####We have two columns in our dataset, Weight gain and calories consumed.\n",
    "wcat.describe()\n",
    "                WG           CC\n",
    "count    14.000000    14.000000\n",
    "mean    357.714286  2340.714286\n",
    "std     333.692495   752.109488\n",
    "min      62.000000  1400.000000\n",
    "25%     114.500000  1727.500000\n",
    "50%     200.000000  2250.000000\n",
    "75%     537.500000  2775.000000\n",
    "max    1100.000000  3900.000000\n",
    "### Describe methos is used for calculating statical data like mean, Std, percentile, min & max values. \n",
    "\n",
    "#Graphical Representation\n",
    "import matplotlib.pyplot as plt         # mostly used for visualization purposes \n",
    "\n",
    "plt.bar(height = wcat.CC, x = np.arange(1, 15, 1))\n",
    "plt.hist(wcat.CC) #histogram\n",
    "plt.boxplot(wcat.CC)\n",
    "\n",
    "\n"
   ]
  },
  {
   "cell_type": "markdown",
   "metadata": {
    "id": "na842xWSlVhw"
   },
   "source": [
    "![image.png](data:image/png;base64,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)"
   ]
  },
  {
   "cell_type": "code",
   "execution_count": null,
   "metadata": {
    "id": "KOdLTKVGlZuH"
   },
   "outputs": [],
   "source": [
    "plt.bar(height = wcat.WG, x = np.arange(1, 15, 1))\n",
    "plt.hist(wcat.WG) #histogram\n",
    "plt.boxplot(wcat.WG) #boxplot\n",
    "## As we can see in boxplot that there is no outliers. "
   ]
  },
  {
   "cell_type": "markdown",
   "metadata": {
    "id": "riHYk5F6llMy"
   },
   "source": [
    "![image.png](data:image/png;base64,iVBORw0KGgoAAAANSUhEUgAAAX0AAAD4CAYAAAAAczaOAAAXs0lEQVR4Ae2dTWhdxfuAC3Yjwj8ptViops2HaWltLGp3LjSGIFbsogj1q9IIQhPUTRJciG5CsqoUd8GCSMCFiStpiIJIK8RiW9wk4CoFlQiSROpnrKHvjzl/7yXXZk5uzj1nzsw7z4Hr+ZgzM+/7vOPT4z1X3SZsEIAABCAQDYFt0WRKohCAAAQgIEifRQABCEAgIgJIP6JikyoEIAABpM8agAAEIBARAaQfUbFJFQIQgID30t+5c6c8/PDDfGDAGmANsAa2sAaMOzfavJe+ET4bBCAAAQhsjYDNnUh/axy5GwIQgEAQBJB+EGUiSAhAAAL5EED6+XBkFAhAAAJBEED6QZSJICEAAQjkQwDp58ORUSAAAQgEQQDpB1EmgoQABCCQDwGknw9HRoEABCAQBAGkH0SZCBICEIBAPgSQfj4cGUUxgW3btomLj2KEpOYRAaTvUTEIRQcB8wcEGwR8JYD0fa0McQVLAOkHW7ooAkf6UZSZJF0SQPouaTPXVgkg/a0S434IbEIA6W8CiOZSCSD9UvEzuUYCSF9jVfXkhPT11JJMPCGA9D0pBGFsSADpb4iFixDITgDpZ2dHz+IJIP3iGTNDZASQfmQFDyxdpB9YwQjXfwJI3/8axRwh0o+5+uReCAGkXwhWBs2JANLPCSTDQKBCAOlXSLD3kQDS97EqxBQ0AaQfdPnUB4/01ZeYBF0TQPquiTPfVggg/a3Q4l4I1EEA6dcBiVtKI4D0S0PPxFoJIH2tldWRV2bpnz59Wnbt2iWHDh2qklheXpaenh7p6OhI9isrK9W20dFRaW9vl87OTpmZmalev3r1qjzwwANJ22uvvSa3bt2qtqUd2AJP60MbBFwQQPouKDNHVgI2d276HwS/ePGiXLt2rUb6Q0NDMjY2lsRi9sPDw8nx/Py8dHV1yerqqiwsLEhbW5usra0lbUePHpXZ2dlE9k8++aRMT0/XlYst8Lo6cxMECiSA9AuEy9ANE7C5c1Ppm5mvX79eI33zFL+4uJgEZfbm3GzmKd98Kltvb28ienPP/v37K5flo48+kldffbV6nnZgCzytD20QcEEA6bugzBxZCdjcmUn6TU1NNXE0Nzcn5wMDAzIxMVFt6+vrk8nJSbly5Yo88cQT1euXLl2SY8eOVc//ezA+Pi4mYPNpaWn5bzPnEPCCANL3ogwEYSHgRPr9/f23SX9qakq++eab26T/9NNPW0KtvWwLvPYuziDgngDSd8+cGesnYHNnpid9vt6pHzx36iWA9PXWVkNmuUp/cHCw5kWuebFrtrm5uZoXua2trdUXuY888oh8/fXX1Re5Fy5cqIurLfC6OnMTBAokgPQLhMvQDROwuXPTJ/2TJ0/K7t27Zfv27bJnzx45f/68LC0tSXd3d/KTTbM3P+GsbCMjI8mvdsw/Daz/hY75Xt/87NP8osd8989PNivE2IdKAOmHWrk44s4s/bLx2AIvOy7mhwDSZw34TMDmzk2f9MtOyhZ42XExPwSQPmvAZwI2dyJ9n6tGbF4TQPpelyf64JB+9EsAAHkTQPp5E2W8PAkg/TxpMhYERATpswx8JoD0fa4OsQVJAOkHWbZogkb60ZSaRF0RQPquSDNPFgJIPws1+kAghQDST4FDU+kEkH7pJSAAbQSQvraK6soH6euqJ9l4QADpe1AEQrASQPpWNDRAIBsBpJ+NG73cEED6bjgzS0QEkH5ExQ4wVaQfYNEI2W8CSN/v+sQeHdKPfQWQf+4EkH7uSBkwRwJIP0eYDAUBQwDpsw58JoD0fa4OsQVJAOkHWbZogkb60ZSaRF0RQPquSDNPFgJIPws1+kAghQDST4FDU+kEkH7pJSAAbQSQvraK6soH6euqJ9l4QADpe1AEQrASQPpWNDRAIBsBpJ+NG73cEED6bjgzS0QEkH5ExQ4wVaQfYNEI2W8CSN/v+sQeHdKPfQWQf+4EkH7uSBkwRwJIP0eYDAUBQwDpsw58JoD0fa4OsQVJAOkHWbZogkb60ZSaRF0RQPquSDNPFgJIPws1+kAghQDST4FDU+kEkH7pJSAAbQSQvraK6soH6euqJ9l4QADpe1AEQrASKET67777rhw8eFAOHTokJ0+elL/++kuWl5elp6dHOjo6kv3Kyko1qNHRUWlvb5fOzk6ZmZmpXk87sAWe1oc2CLgggPRdUGaOrARs7tyWdcAff/xR9u3bJ3/++WcyxLPPPisffPCBDA0NydjYWHLN7IeHh5Pj+fl56erqktXVVVlYWJC2tjZZW1vbdHpb4Jt25AYIFEwA6RcMmOEbImBzZ0PSv/fee5Mn+3/++UeOHTsmn332WfIUv7i4mARr9uap3mzmKd98Kltvb6/Mzs5WTq17W+DWDjRAwBEBpO8INNNkImBzZ2bpmyjOnTsnd911l9x9993y/PPPJ4E1NTXVBNjc3JycDwwMyMTERLWtr69PJicnq+frD8bHx8UEbD4tLS3rmziGgDcEkL43pSCQDQjkLn3zXf3jjz8uP//8s9y8eVOOHz+eSN0m/f7+/tukPzU1tUGotZdsgdfexRkE3BNA+u6ZM2P9BGzuzPyk//HHH4t5Wq9sH374oZw5c4avdypA2KsngPTVlzjoBHOX/uXLl5Nf7vzxxx9y69YtOXXqlLz33nsyODhY8yLXvNg129zcXM2L3NbWVl7kBr2kCB7pswZ8JpC79E2yb7/9tuzfvz/5yeaLL76Y/DJnaWlJuru7k59smr35CWdlGxkZSX61Y17uTk9PVy6n7m2Bp3aiEQIOCCB9B5CZIjMBmzszf72TOZItdrQFvsVhuB0CuRNA+rkjZcAcCdjcifRzhMxQcRFA+nHVO7RskX5oFSNe7wkgfe9LFHWASD/q8pN8EQSQfhFUGTMvAkg/L5KMA4F/CSB9loLPBJC+z9UhtiAJIP0gyxZN0Eg/mlKTqCsCSN8VaebJQgDpZ6FGHwikEED6KXBoKp0A0i+9BASgjQDS11ZRXfkgfV31JBsPCCB9D4pACFYCSN+KhgYIZCOA9LNxo5cbAkjfDWdmiYgA0o+o2AGmivQDLBoh+00A6ftdn9ijQ/qxrwDyz50A0s8dKQPmSADp5wiToSBgCCB91oHPBJC+z9UhtiAJIP0gyxZN0Eg/mlKTqCsCSN8VaebJQgDpZ6FGHwikEED6KXBoKp0A0i+9BASgjQDS11ZRXfkgfV31JBsPCCB9D4pACFYCSN+KhgYIZCOA9LNxo5cbAkjfDWdmiYgA0o+o2AGmivQDLBoh+00A6ftdn9ijQ/qxrwDyz50A0s8dKQPmSADp5wiToSBgCCB91oHPBJC+z9UhtiAJIP0gyxZN0Eg/mlKTqCsCSN8VaebJQgDpZ6FGHwikEED6KXBoKp0A0i+9BASgjQDS11ZRXfkgfV31JBsPCCB9D4pACFYChUj/l19+kRMnTsj+/fvlwIEDMjs7K8vLy9LT0yMdHR3JfmVlpRrU6OiotLe3S2dnp8zMzFSvpx3YAk/rQxsEXBBA+i4oM0dWAjZ3bss6oOl36tQpef/995Mh/v77bzF/CAwNDcnY2FhyzeyHh4eT4/n5eenq6pLV1VVZWFiQtrY2WVtbS9rS/mILPK0PbRBwQQDpu6DMHFkJ2NyZWfo3btyQffv2ya1bt2piMk/xi4uLyTWzN+dmM0/55lPZent7k38yqJzb9rbAbfdzHQKuCCB9V6SZJwsBmzszS//bb7+Vo0ePyssvvyxHjhyRV155RX7//Xdpamqqia+5uTk5HxgYkImJiWpbX1+fTE5OVs/XH4yPj4sJ2HxaWlrWN3EMAW8IIH1vSkEgGxDIXfpXrlyRO+64Qy5fvpxM9/rrr8tbb71llX5/f/9t0p+amtog1NpLtsBr7+IMAu4JIH33zJmxfgI2d2Z+0v/pp59k79691QguXbokTz31VPJ1Dl/vVLFwoJgA0ldcXAWp5S59w+TRRx+V7777LsHzzjvvyODgYPJZ/yLXvNg129zcXM2L3NbWVl7kJmT4S6gEkH6olYsj7kKkb77XNwMfPnxYjh8/LubnmUtLS9Ld3Z38ZNPszU84K9vIyEjyqx3zcnd6erpyOXVvCzy1E40QcEAA6TuAzBSZCdjcmfnrncyRbLGjLfAtDsPtEMidANLPHSkD5kjA5k6knyNkhoqLANKPq96hZYv0Q6sY8XpPAOl7X6KoA0T6UZef5IsggPSLoMqYeRFA+nmRZBwI/EsA6bMUfCaA9H2uDrEFSQDpB1m2aIJG+tGUmkRdEUD6rkgzTxYCSD8LNfoES2DHjh3J/7jciDnkj8mDDQJZCCD9LNToEywBLU/hWvIIdiEFHDjSD7h4hL51AlpkqSWPrVeQHo0SQPqNEqR/UAS0yFJLHkEtHiXBIn0lhSSN+ghokaWWPOqrGnflSQDp50mTsbwnoEWWWvLwfsEoDBDpKywqKdkJaJGlljzslaKlKAJIvyiyjOslAS2y1JKHl4tEeVBIX3mBSa+WgBZZasmjtjqcuSCA9F1QZg5vCGiRpZY8vFkYEQWC9CMqNqlK8m/hauCA9DVUsZwckH453Jm1JAJaZKklj5KWQdTTIv2oyx9f8lpkqSWP+FZg+Rkj/fJrQAQOCWiRpZY8HJaeqf4lgPRZClER0CJLLXlEtfg8SRbpe1IIwnBDQIssteThpurMsp4A0l9Pg2P1BLTIUkse6hechwkifQ+LQkjFEdAiSy15FFdpRrYRQPo2MlxXSUCLLLXkoXKReZ4U0ve8QISXLwEtstSSR77VZbR6CCD9eihxjxoCWmSpJQ81CyugRJB+QMUi1MYJaJGlljwarygjbJUA0t8qMe4PmoAWWWrJI+jFFGjwhUl/bW1Njhw5IseOHUvQLC8vS09Pj3R0dCT7lZWVKrLR0VFpb2+Xzs5OmZmZqV5PO7AFntaHNghokaWWPFiR7gnY3Lmt0VDOnj0rzz33XFX6Q0NDMjY2lgxr9sPDw8nx/Py8dHV1yerqqiwsLEhbW5uYPzA222yBb9aP9rgJaJGlljziXo3lZG9zZ0PS/+GHH6S7u1u++OKLqvTNU/zi4mKSpdmbc7OZp3zzqWy9vb0yOztbObXubYFbO9AAAeE/rcwigIDNnQ1J/8SJE3L16lX58ssvq9Jvamqqod3c3JycDwwMyMTERLWtr69PJicnq+e2A1vgtvu5DgFDQMsTspY8WJXuCdjcmVn6n376qZw5cybJpB7p9/f33yb9qampDUmMj4+LCdh8WlpaNryHixBII6BFllrySKsVbcUQyF36b775puzZs0f27t0r99xzj9x5553ywgsvJF/n8PVOMUVk1PoJaJGlljzqrxx35kUgd+mvD2z9k/7g4GDNi1zzYtdsc3NzNS9yW1tbeZG7HiLHuRLQIksteeRaXAari4Az6S8tLSUvd81PNs1LXvMTzso2MjKS/GrHvNydnp6uXE7d2wJP7URj9AS0yFJLHtEvyBIA2NyZ+Tt9VznYAnc1P/OESUCLLLXkEeYqCjtqmzuRfth1JXoLAS2y1JKHpUxcLpAA0i8QLkP7R0CLLLXk4d8K0R8R0tdfYzJcR0CLLLXksa40HDoigPQdgWYaPwhokaWWPPxYFXFFgfTjqnf02WqRpZY8ol+QJQBA+iVAZ8ryCGiRpZY8ylsJ8c6M9OOtfZSZa5GlljyiXIQlJ430Sy4A07sloEWWWvJwW31mMwSQPusgKgJaZKklj6gWnyfJIn1PCkEYbghokaWWPNxUnVnWE0D662lwrJ6AFllqyUP9gvMwQaTvYVEIqTgCWmSpJY/iKs3INgJI30aG6yoJaJGlljxULjLPk0L6nheI8PIloEWWWvLIt7qMVg8BpF8PJe5RQ0CLLLXkoWZhBZQI0g+oWITaOAEtstSSR+MVZYStEkD6WyXG/UET0CJLLXkEvZgCDR7pB1o4ws5GQIssteSRrYr0aoQA0m+EHn2DI6BFllryCG4BKQgY6SsoIinUT0CLLLXkUX/luDMvAkg/L5KMEwQBLbLUkkcQi0ZZkEhfWUFJJ52AFllqySO9WrQWQQDpF0GVMb0loEWWWvLwdqEoDgzpKy4uqd1OQIssteRxe4W4UjQBpF80Ycb3ioAWWWrJw6vFEUkwSD+SQpPm/xPQIkstebAu3RNA+u6ZM2OJBLTIUkseJS6FaKdG+tGWPs7EtchSSx5xrsJys0b65fJndscEtMhSSx6Oy890RfyP0b///nt57LHH5MCBA3Lw4EE5d+5cAnp5eVl6enqko6Mj2a+srFQLMDo6Ku3t7dLZ2SkzMzPV62kHtj+t0vrQBgEtstSSByvSPQGbO7dlDWVxcVGuXbuWdP/111/l/vvvl/n5eRkaGpKxsbHkutkPDw8nx6atq6tLVldXZWFhQdra2mRtbW3T6W2Bb9qRG6ImoEWWWvKIejGWlLzNnZml/988nnnmGfn888+Tp3jzB4LZzN481ZvNPOWbT2Xr7e2V2dnZyql1bwvc2oEGCIiIFllqyYNF6Z6AzZ25SP/69ety3333yY0bN6Spqakmu+bm5uR8YGBAJiYmqm19fX0yOTlZPbcd2AK33c91CBgCWmSpJQ9WpXsCNnc2LP3ffvtNHnroIfnkk0+SrGzS7+/vv036U1NTG5IYHx8XE7D5tLS0bHgPFyGQSuCd/xPR8klNlEYIbEygEOnfvHlTzNc0Z8+erc5qvs7h650qDg5KIqDlCVlLHiUtg6inzV36t27dkpdeekneeOONGrCDg4M1L3LNi12zzc3N1bzIbW1t5UVuDTlO8iSgRZZa8siztoxVH4Hcpf/VV18l35sePnxYHnzwweRz4cIFWVpaku7u7uQnm2ZvfsJZ2UZGRpJf7Zh/Gpienq5cTt3bAk/tRGP0BLTIUkse0S/IEgDY3Nnwd/pF52ILvOh5GT9sAlpkqSWPsFdTmNHb3In0w6wnUW9CQIssteSxSbloLoAA0i8AKkP6S0CLLLXk4e9K0RsZ0tdbWzLbgIAWWWrJY4MScalgAki/YMAM7xcBLbLUkodfqyOOaJB+HHUmy38JaJGlljxYmO4JIH33zJmxRAJaZKkljxKXQrRTI/1oSx9n4lpkqSWPOFdhuVkj/XL5M7tjAlpkqSUPx+VnuiL+JyquqNr+tHI1P/OESUCLLLXkEeYqCjtqmzv5l7PCrivRWwhokaWWPCxl4nKBBJB+gXAZ2j8CWmSpJQ//Voj+iJC+/hqT4ToCRpYaPjt27FiXFYcQqJ8A0q+fFXdCoC4CPIXXhYmbSiKA9EsCz7R6CSB9vbXVkBnS11BFcvCKANL3qhwE8x8CSP8/QDiFQKMEkH6jBOlfJAGkXyRdxo6SANKPsuzBJI30gykVgYZCAOmHUqk440T6cdadrAskgPQLhMvQDRNA+g0jZAAI1BJA+rU8OPOLANL3qx5Eo4AA0ldQRMUpIH3FxSW1fAgYibv45BMto0AgnQDST+dDKwQgAAFVBJC+qnKSDAQgAIF0Akg/nQ+tEIAABFQRQPqqykkyEIAABNIJIP10PrRCAAIQUEUA6asqJ8lAAAIQSCeA9NP50AoBCEBAFQGkr6qcJAMBCEAgnQDST+dDKwQgAAFVBIKV/s6dO8UEzwcGvq2BlpYW1iV/b3q7Bow7N9q2bXSRaxCAwOYEbE9Sm/fkDgiURwDpl8eemQMngPQDL2Ck4SP9SAtP2o0TQPqNM2QE9wSQvnvmzKiEwPj4uJJMSCMmAkg/pmqTKwQgED0BpB/9EgAABCAQEwGkH1O1yRUCEIieANKPfgkAYKsETp8+Lbt27ZJDhw5ttSv3Q6B0Aki/9BIQQGgELl68KNeuXUP6oRWOeBMCSJ+FAIEMBK5fv470M3CjS/kEkH75NSCCAAkg/QCLRsgJAaTPQoBABgJIPwM0unhBAOl7UQaCCI0A0g+tYsRbIYD0KyTYQ2ALBJD+FmBxq1cEkL5X5SCYEAicPHlSdu/eLdu3b5c9e/bI+fPnQwibGCGQEED6LAQIQAACERFA+hEVm1QhAAEIIH3WAAQgAIGICCD9iIpNqhCAAASQPmsAAhCAQEQEkH5ExSZVCEAAAkifNQABCEAgIgJIP6JikyoEIACB/wEhGwLs0UTCaQAAAABJRU5ErkJggg==)"
   ]
  },
  {
   "cell_type": "code",
   "execution_count": null,
   "metadata": {
    "id": "RhKNOu2wlrLI"
   },
   "outputs": [],
   "source": [
    "# Scatter plot\n",
    "plt.scatter(x = wcat['WG'], y = wcat['CC'], color = 'green') \n",
    "\n",
    "#####This function is used for type of plot that shows the data as a collection of points."
   ]
  },
  {
   "cell_type": "markdown",
   "metadata": {
    "id": "P7oLNuNilv-S"
   },
   "source": [
    "![image.png](data:image/png;base64,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)"
   ]
  },
  {
   "cell_type": "code",
   "execution_count": null,
   "metadata": {
    "id": "DLMzwawvlyuS"
   },
   "outputs": [],
   "source": [
    "###### This function is used to measure the strength of the relationship between two variables and we get good correlation b/w Weight gain and calories consumed column.\n",
    "###### And the correlation coefficient value is given below.\n",
    "# correlation\n",
    "np.corrcoef(wcat.WG, wcat.CC) \n",
    "\n",
    "array([[1.        , 0.94699101],\n",
    "       [0.94699101, 1.        ]])\n",
    "\n",
    "# Covariance\n",
    "cov_output = np.cov(wcat.WG, wcat.CC)[0, 1]\n",
    "cov_output\n",
    "Out[15]: 237669.4505494506\n",
    "# Import library\n",
    "import statsmodels.formula.api as smf\n",
    "# Simple Linear Regression\n",
    "model = smf.ols('CC ~ WG', data = wcat).fit()\n",
    "model.summary()\n",
    "<class 'statsmodels.iolib.summary.Summary'>\n",
    "\"\"\"\n",
    "                            OLS Regression Results                            \n",
    "==============================================================================\n",
    "Dep. Variable:                     CC   R-squared:                       0.897\n",
    "Model:                            OLS   Adj. R-squared:                  0.888\n",
    "Method:                 Least Squares   F-statistic:                     104.3\n",
    "Date:                Fri, 29 Oct 2021   Prob (F-statistic):           2.86e-07\n",
    "Time:                        16:01:23   Log-Likelihood:                -96.170\n",
    "No. Observations:                  14   AIC:                             196.3\n",
    "Df Residuals:                      12   BIC:                             197.6\n",
    "Df Model:                           1                                         \n",
    "Covariance Type:            nonrobust                                         \n",
    "==============================================================================\n",
    "                 coef    std err          t      P>|t|      [0.025      0.975]\n",
    "------------------------------------------------------------------------------\n",
    "Intercept   1577.2007    100.541     15.687      0.000    1358.141    1796.260\n",
    "WG             2.1344      0.209     10.211      0.000       1.679       2.590\n",
    "==============================================================================\n",
    "Omnibus:                        0.254   Durbin-Watson:                   2.308\n",
    "Prob(Omnibus):                  0.881   Jarque-Bera (JB):                0.425\n",
    "Skew:                          -0.098   Prob(JB):                        0.808\n",
    "Kurtosis:                       2.169   Cond. No.                         719.\n",
    "==============================================================================\n",
    "\n",
    "Notes:\n",
    "[1] Standard Errors assume that the covariance matrix of the errors is correctly specified.\n",
    "pred1 = model.predict(pd.DataFrame(wcat['WG']))\n",
    "\n",
    "# Regression Line\n",
    "plt.scatter(wcat.WG, wcat.CC)\n",
    "plt.plot(wcat.WG, pred1, \"r\")\n",
    "plt.legend(['Predicted line', 'Observed data'])\n",
    "plt.show()\n",
    "##Error calculation\n",
    "res1 = wcat.CC - pred1\n",
    "res_sqr1 = res1 * res1\n",
    "mse1 = np.mean(res_sqr1)\n",
    "rmse1 = np.sqrt(mse1)\n",
    "rmse1\n",
    "Out[28]: 232.8335007096088\n",
    "\n",
    "#### This method is used measuring the difference between values predicted by a model and their actual values. and the root mean square error 1 is 232.833."
   ]
  },
  {
   "cell_type": "markdown",
   "metadata": {
    "id": "EwKRKsnunMGc"
   },
   "source": [
    "![image.png](data:image/png;base64,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)"
   ]
  },
  {
   "cell_type": "code",
   "execution_count": null,
   "metadata": {
    "id": "zhLpFw6_nN4t"
   },
   "outputs": [],
   "source": [
    "######### Model building on Transformed Data\n",
    "plt.scatter(x = np.log(wcat['WG']), y = wcat['CC'], color = 'brown')\n",
    "np.corrcoef(np.log(wcat.WG), wcat.CC) #correlation\n",
    "model2 = smf.ols('CC ~ np.log(WG)', data = wcat).fit()\n",
    "model2.summary()\n",
    "pred2 = model2.predict(pd.DataFrame(wcat['WG']))\n",
    "# Regression Line\n",
    "plt.scatter(np.log(wcat.WG), wcat.CC)\n",
    "plt.plot(np.log(wcat.WG), pred2, \"r\")\n",
    "plt.legend(['Predicted line', 'Observed data'])\n",
    "plt.show()"
   ]
  },
  {
   "cell_type": "markdown",
   "metadata": {
    "id": "Ww8PWkH2nc2z"
   },
   "source": [
    "![image.png](data:image/png;base64,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)"
   ]
  },
  {
   "cell_type": "code",
   "execution_count": null,
   "metadata": {
    "id": "V8wSCgA-neOZ"
   },
   "outputs": [],
   "source": [
    "# Error calculation\n",
    "res2 = wcat.CC - pred2\n",
    "res_sqr2 = res2 * res2\n",
    "mse2 = np.mean(res_sqr2)\n",
    "rmse2 = np.sqrt(mse2)\n",
    "rmse2\n",
    "#### Exponential transformation\n",
    "# x = waist; y = log(at)\n",
    "plt.scatter(x = wcat['WG'], y = np.log(wcat['CC']), color = 'orange')\n",
    "np.corrcoef(wcat.WG, np.log(wcat.CC)) #correlation\n",
    "model3 = smf.ols('np.log(CC) ~ WG', data = wcat).fit()\n",
    "model3.summary()\n",
    "##<class 'statsmodels.iolib.summary.Summary'>\n",
    "##\"\"\"\n",
    "                            OLS Regression Results                            \n",
    "==============================================================================\n",
    "Dep. Variable:             np.log(CC)   R-squared:                       0.808\n",
    "Model:                            OLS   Adj. R-squared:                  0.792\n",
    "Method:                 Least Squares   F-statistic:                     50.40\n",
    "Date:                Fri, 29 Oct 2021   Prob (F-statistic):           1.25e-05\n",
    "Time:                        16:06:17   Log-Likelihood:                 8.3130\n",
    "No. Observations:                  14   AIC:                            -12.63\n",
    "Df Residuals:                      12   BIC:                            -11.35\n",
    "Df Model:                           1                                         \n",
    "Covariance Type:            nonrobust                                         \n",
    "==============================================================================\n",
    "                 coef    std err          t      P>|t|      [0.025      0.975]\n",
    "------------------------------------------------------------------------------\n",
    "Intercept      7.4068      0.058    128.367      0.000       7.281       7.533\n",
    "WG             0.0009      0.000      7.100      0.000       0.001       0.001\n",
    "==============================================================================\n",
    "Omnibus:                        0.488   Durbin-Watson:                   2.068\n",
    "Prob(Omnibus):                  0.783   Jarque-Bera (JB):                0.559\n",
    "Skew:                          -0.317   Prob(JB):                        0.756\n",
    "Kurtosis:                       2.254   Cond. No.                         719.\n",
    "==============================================================================\n",
    "\n",
    "Notes:\n",
    "[1] Standard Errors assume that the covariance matrix of the errors is correctly specified.\n",
    "\n",
    "\n",
    "pred3 = model3.predict(pd.DataFrame(wcat['WG']))\n",
    "pred3_at = np.exp(pred3)\n",
    "pred3_at\n",
    "\n",
    "0     1805.909334\n",
    "1     1953.101471\n",
    "2     3545.194617\n",
    "3     1953.101471\n",
    "4     2126.731695\n",
    "5     1808.988061\n",
    "6     1836.933870\n",
    "7     1736.526880\n",
    "8     2745.847366\n",
    "9     4203.546672\n",
    "10    1793.646733\n",
    "11    1871.676808\n",
    "12    2219.252162\n",
    "13    2989.952498\n",
    "dtype: float64\n",
    "\n",
    "# Regression Line\n",
    "plt.scatter(wcat.WG, np.log(wcat.CC))\n",
    "plt.plot(wcat.WG, pred3, \"r\")\n",
    "plt.legend(['Predicted line', 'Observed data'])\n",
    "plt.show()\n",
    "# Error calculation\n",
    "res3 = wcat.CC - pred3_at\n",
    "res_sqr3 = res3 * res3\n",
    "mse3 = np.mean(res_sqr3)\n",
    "rmse3 = np.sqrt(mse3)\n",
    "rmse3\n",
    "\n",
    "272.4207117048496\n",
    "######## This method is used measuring the difference between values predicted by a model and their actual values. and the root mean square error 3 is 272.420.\n",
    "#### Polynomial transformation\n",
    "# x = waist; x^2 = waist*waist; y = log(at)\n",
    "model4 = smf.ols('np.log(CC) ~ WG + I(WG*WG)', data = wcat).fit()\n",
    "model4.summary()\n",
    "\n",
    "\"\"\"\n",
    "                            OLS Regression Results                            \n",
    "==============================================================================\n",
    "Dep. Variable:             np.log(CC)   R-squared:                       0.852\n",
    "Model:                            OLS   Adj. R-squared:                  0.825\n",
    "Method:                 Least Squares   F-statistic:                     31.55\n",
    "Date:                Fri, 29 Oct 2021   Prob (F-statistic):           2.78e-05\n",
    "Time:                        16:09:32   Log-Likelihood:                 10.125\n",
    "No. Observations:                  14   AIC:                            -14.25\n",
    "Df Residuals:                      11   BIC:                            -12.33\n",
    "Df Model:                           2                                         \n",
    "Covariance Type:            nonrobust                                         \n",
    "==============================================================================\n",
    "                 coef    std err          t      P>|t|      [0.025      0.975]\n",
    "------------------------------------------------------------------------------\n",
    "Intercept      7.2892      0.084     86.724      0.000       7.104       7.474\n",
    "WG             0.0017      0.000      3.560      0.004       0.001       0.003\n",
    "I(WG * WG) -7.689e-07   4.27e-07     -1.803      0.099   -1.71e-06     1.7e-07\n",
    "==============================================================================\n",
    "Omnibus:                        0.744   Durbin-Watson:                   2.647\n",
    "Prob(Omnibus):                  0.689   Jarque-Bera (JB):                0.721\n",
    "Skew:                          -0.394   Prob(JB):                        0.697\n",
    "Kurtosis:                       2.217   Cond. No.                     1.01e+06\n",
    "==============================================================================\n",
    "\n",
    "Notes:\n",
    "[1] Standard Errors assume that the covariance matrix of the errors is correctly specified.\n",
    "[2] The condition number is large, 1.01e+06. This might indicate that there are\n",
    "strong multicollinearity or other numerical problems.\n",
    "\n",
    "pred4 = model4.predict(pd.DataFrame(wcat))\n",
    "pred4_at = np.exp(pred4)\n",
    "pred4_at\n",
    "\n",
    "0     1739.606122\n",
    "1     1986.232241\n",
    "2     3556.374964\n",
    "3     1986.232241\n",
    "4     2260.501362\n",
    "5     1744.868700\n",
    "6     1792.457905\n",
    "7     1620.099409\n",
    "8     3038.496984\n",
    "9     3657.476403\n",
    "10    1718.608337\n",
    "11    1851.135743\n",
    "12    2397.660886\n",
    "13    3251.772007\n",
    "dtype: float64\n",
    "\n",
    "# Regression line\n",
    "from sklearn.preprocessing import PolynomialFeatures\n",
    "poly_reg = PolynomialFeatures(degree = 2)\n",
    "X = wcat.iloc[:, 0:1].values\n",
    "X_poly = poly_reg.fit_transform(X)\n",
    "# y = wcat.iloc[:, 1].values\n",
    "plt.scatter(wcat.WG, np.log(wcat.CC))\n",
    "plt.plot(X, pred4, color = 'red')\n",
    "plt.legend(['Predicted line', 'Observed data'])\n",
    "plt.show()"
   ]
  },
  {
   "cell_type": "markdown",
   "metadata": {
    "id": "L37h-ptoo3mt"
   },
   "source": [
    "![image.png](data:image/png;base64,iVBORw0KGgoAAAANSUhEUgAAAXQAAAD4CAYAAAD8Zh1EAAAgAElEQVR4Ae1dC9xVU97uc6dJ6eJNUq9K9wu5FrpRdFEGKbqYMvpUKnwUI2JQM9FFIS+mpgljJIVIhokaapA7U4MuKlIuSaHLeL7fs3frnH3Ou88+t33O2eecZ/1+5933tf7rWed99jr/9b9UgIoQEAJCQAgUBAIVCqIX6oQQEAJCQAhAhK4vgRAQAkKgQBAQoRfIQKobQkAICAERur4DQkAICIECQUCEXiADqW4IASEgBHJG6NWqVcOJJ56ojzDQd0DfAX0HkvgOkDtjlZwROslcRQgIASEgBJJDwIs7RejJYam7hYAQEAI5RUCEnlP41bgQEAJCwD8EROj+YamahIAQEAI5RSBvCH337t1Ys2YNPv74Y33yBAOOF8dNRQgIgewgkDeETnLYunUrfvnll+wgo1bSQoDjxPHiuKkIASGQHQTyhtA5MxeZZ+dL4VcrHC+Om4oQEALxEZj/9ka0nfAySscstLY8TrbkFaEn2zndn3sEROi5HwNJEHwESN6Nxy5C3TELQx8eJ0vqIvTgj3VeSyhCz+vhk/BZQoAzcyeZm32eT6aI0JNAa7/99kOrVq3QrFkzXHTRRdi5c2cST0feetlll2Hu3LnWycsvvxwfffRR5A2OoyVLluC1115znElst27dupYeO/pu5/k2bdpEX/b1WITuK5yqrEARoJrFkLhzy/PJFBF6EmhVrFgxdPell16KSZMmhY65s3fv3ohjrwMnoXvdx2vjxo3DXXfdFe+2ctedxO28GOu88x6/9kXofiGpegoZAc3QczC6TkKfMWMGhg4dCs6eO3TogEsuuQRNmjSxSP26667DSSedhBYtWuCBBx6wJOUC4fDhw617unXrhq5du4Zm6O3bt8ebb75p3bdo0SKccMIJaNmyJTp16oS1a9eipKQEtWrVsn4dLF26FFu2bMEFF1xgtcF2/vnPf1rPfv311+jcuTOOP/54DBkyBHXq1Ik7Qzd9Yj8ox4UXXohGjRqBLyyzCP3WW2+hXbt2aN26Nbp06YIvvvgiYfRF6AlDpRuLGIHi1qGPGgW0b+/vh3XGKYb89uzZg549e+L++++3CP2www4LmeeVlZXh9ttvt2r6+eefrcBCNN2bN28ezj77bIvwN23ahMqVK5cjdBJ17dq1Q3V98803Vj3RM3S+PJYtW2ZdW79+PRo3bmztjxgxArfddpu1v3DhQlSoUCEpQj/88MOxYcMG/Pe//8Vpp51mtUE7cqplKBvL448/jkGDBln7ifwRoSeCku4RArAWQIvTyiVHhG506NSjX3XVVdi1a1dohm6+kJzhHnfccdZsmveVlpZi8eLFGDVqFP70pz+Z2/DrX/+6HKE/88wz1sw4dNO+nWhCr1GjRqh+tsHZ+/bt261zn332WejxI444IilC5wvHlCuvvBJz5szBBx98gEqVKoXaa968ufUrwNwXbytCj4eQrgsB/xCQDj0JLM0M3fkIVRXdu3cPnaIq5IUXXggdmx0S+syZM82hK6E//fTT6NevX+gesxNN6AyR+eOPP5rLoS3J3enIkyyhO/tB9dCsWbPw/vvvW7P1UCNJ7ojQkwRMtwuBNBAQoScBXiKETpVLr169Qi7vq1evxo4dOyyVC/XPXDilDrpKlSrlZuixVC533303brnllpCkVLlMnDgxdPzOO+9Y+1S5GHXP888/n7TKxY3Q+Sukfv36eP311602qIL58MMPQ23H2xGhx0NI14WAfwiI0JPAMhFCp/75xhtvBFUTNG/kgum2bdusBUazKErC58eYLToXRUnEXNTkoqhRgfClwAVWzsC5KEqX+osvvtg6x4XY//3f/7V6YRZFuah69dVXJ70o6kborJgvjDPPPNOSqWnTpnjwwQcTRk2EnjBUulEIpI2ACD1tCFWBFwIidC90dE0I+IuACN1fPFVbFAIi9ChAdCgEMohA2oQ+efJk8Gc41Qt9+/bFTz/9FCHuI488YqkGqDKg+du7774bcd3twE0oEYMbUsE/p3EL/hhJwsJBwI07Te/ipqDbuHGjZZZnLC569+5tWUaYCrily/q3335rnaJ++JRTTnFedt13E0rE4ApV4E9q3AI/RBIwSAikEU6E3XDjTtO9hAidjjB0gKGzDRfVaHMdq5DYaTMdr7gJJWKIh1owr2vcgjkukiogCGzaBPz1r8DQoUDTpkCFCkASRgfRvXDjTnNPXELnjVOnTgWtP6pXr+7qFGMq45bxSBiIKl5xE0rEEA+1YF7XuAVzXCRVjhBYtw6YPRsgDzZoYBM4SZyfAw6wz3/9dcrCuXGnqSwuoXPG3bFjR8stnPbJNMWjd6Fb+cc//mG5qNO0zq3QfpvC8MMYJNFFxBCNSH4ca9zyY5wkZQYQYHa11auBhx4C+vcHyGuGvJ1bEvkVVwA+ZPdKi9CfeOIJDB48OITE7NmzrYBVoRP7dt577z3Uq1cPtKdOpLgJFQRiYJwTxnBp0KCB1Z+RI0da7v/sE70qaWcetOJmOx8tY7QnavR1Hs+fP98zxK/bMzwXhHGLJZvOCwFfEfjvf4EPPgDuuw+4+GKgZs0wgR95JHDRRcD11wNt29qz8QMPBIYMAdau9U0MN+40lcedoa9YscKycGFccEbmGzhwIKZNm2aet7YMHkVPw2TiebsJlWtiYP9OPvnkkPs+PT75MmNkRZZMEDrXJdItfhF6MuF+nTLnetycsmhfCPiKAMNlr1wJTJ4MnH8+UK1amMCPPhq49FKgrAz4979t0iZ5k8T5ufJKgOoXn4sbd5om4hI6b6RLOsOt0myxf//+YIRBhpblh4U6c7q508uRH68GTcNu9yRLDAxHmW7kMiMPty+99JLlLek89/3336Nq1apWogsSOmfv55xzDho2bIhbb73VupVu/wyXS89PYsRohSyxQtLSa5SepgxXyzoYu5zepyx8cXIRmuqtTz/91GqLIW3POOMM/JtfGvBX2xor9grD6o4dO9Za37AuRP254447LDnPOussy9zUxFunFyifpbyMS8M2+TJmXBgGGuMYsm23+6KasA6THTe3OnSuiBFgxNGSEqBJk9yDsHs3sHw58Ic/AN26AYcfHibwevWA3/yGMzuAAfJMMnvOvqlOoVrloIPsxc/16zPWFzfuNI0lROjmZj+3bkIlQwx+xRZ29umee+6x3Omd57hPN32qlEjoNWvWBNcIaMZJ8maM8yeffBK//e1vQ48xDIBXSFoSOuOsm8KXBNcfWPgyMIvKjJX+n//8xzrPX0pcy2A577zzQNUXy7333utK6HyZMDQByZovJf6CMoTuXOO46aabQr+4omfose6zGnb8SWbcHI9pt9gRIHkyRLZT15xtTOhT8+qrwO9/DzAS6WGHheVhyGrOuB99FNiwobxkJHUufBoiHzYM+Pzz8vf5fMaNO00TeUvofmX/MEBwS2uea665xnnK2ueMlREJSegDBgwIXb/55psxZcoUa92AM9vRo0dbcVh4g1dIWhL6K6+8Eqrn0UcfDcVqOf/88/Hiiy/ihx9+wCGHHBL61UMZTEx0/mLgC4OFZO2mcqFclM8U9ssQOtvmjJ+ET7lNnJhoQo91n6nTbEXoBgltE0KAM1v+nzmJnISajbJjB/D3vwNjxwLt2gEHH2zL8T//A7RsCYwYATBt5ObNsaUhkXNdcf/97eevusqd8GPXkNaVgiR0v/LzOZH9+9//HlflwjUEU0iYfAmw0E6f1j+nn366lYDCKyStM1AXnyV50+qHdRxzzDFWtEYSNX8NuBUSutG9exG6M3qjk9BJ4sably8pEjlLNKHHui9aJhF6NCI6jokA8wU4ifzCC4F96saYz6RzYds2YOFCYPRo4LTT7Nk0299vP+Ckk4D/+z/g6af5Dxy/lU8+sVUuhshHjgQ2boz/nM93FCShZ2KGzkVRgmXUGVwUpSrl2muvtYaE5HfUUUdZxEuVC0MdUOXC7EQmHAItRWja6RWSNprQWTkTUnN9wqmKYRgFWhmxUDZDwlS5GNNRZlRym6GvXLnSko9yMjEGrXbMDJ2x1r/66itrls9oj4bQmdDDGc891n2WQI4/InQHGNp1R4BqDSeRH3sssH27+73pnN26FXjqKeDqq4ETTrCJm+1ykZKWJzfeCCxaxJ+2ibdCtScnPSTyQw4BmHyHzkI5KgVJ6JnQoXN8Pv/8c/To0SNktkiS4yIwCwmdoQ+4AOpcFGWyCxP6louNJndorJC0boTOMLtMJ+dUxXDxkwuwXLxkCF2Tes65KDphwgRXQqe8ZlGUOUiZUs4QOl8CnH1TDvbPEDrzlrIdrhlwUTTWfRYYjj8idAcY2o1EgHbXTiLnvp+WH8x9SyME6q+bNQu3ReLlmtO4ccDLL9PaIFKuRI5ogk0VK2fzhx5qq4mSyLWbSBOp3FOQhE4g/LZySQVcPSM7dH0HXBDgDJhmfU4yf+01lxuTPMWXwV/+AtAI4bjjwvX/6lfAOecAd94JMKH6vklYkrXbt9OajFnFDJHzF/qXX6ZUVSYeKlhCzwRYqjN5BDRDTx6zgn2CdttM1+gkchKwR4k5MePiKdUdDz9sz5Tr1g3XW6UKzb0YawR44w3AB38OfPyxbVfOBVJau9D/xGtx1KNPmbwkQs8kuqpbnqL6DtgI0KrKSeRciIxTIlSno5/F2YPvw61dh2NDl57AUUeF66tRA+AC6j33AAzPzReHX+Wjj4C+fQFD5PT0/Oorv2r3vZ68InQu/qnkDwIcL83Q82e8MiIpIwk6iZyqj0RmzHv34rIRD+C2TldgUcM2+PrQsBPPlsOrAZdcAjzwAHV6YScePzvAvLl9+thEXrEiMGYMsGWLny1kpK68IXQu9jGXpkg9I98D3yvlOHG8OG4qRYjAv/4VSeScRX/3XWwg6DuxYgXwxz/aapnKlUPPr69cgrnNz8J1XUfhzCEPoXT0s7HrSfcKY7H07m0TOXXvN9wA0DomT0reEDqdZUgOnPHpkx8YcLyMk1Oe/D9IzHQRoNekc0bO/X0ezRFV0wtz6VLg9tuBzp0BzoLNc40aWe7yt158I04bOgt1xyyM+NAs2ffy/vt28CzKUKkS8LvfATEiw/reto8V5g2h+9hnVSUEhIDfCNDLkkRsSJnbfSErrKZ4/aWXAOrS6dJvvDB5X4sWAD0q6VfhsBiJ0KHvI/XGYxdZFmy+iU+d+wUX2HKTyOklmogjkW8C+FuRCN1fPFWbECguBOjJSV2zk8ip26Zp4vPP27rnNm0ivTBPPBGgud+CBXHJM6aVS7oov/22HSGRcjPIFl80eUzkBg4RukFCWyEgBJJDgFEHnURO23J6YbZuHfbCZHAqEjp10ST4ZLwwk5MmsbsZ7rZXL1tu6unpXLQv53FiFQT7LhF6sMdH0gmB4CHAmbWTyJ37VKVQpXLLLbaKJRUvzEz0+K23bNt0yko7dYa39lqkzYQMWahThJ4FkNWEEMh7BBjDm840TvI2+126MJaEvciZjhdmJkB6802gRw9bbhI5IzcyKFeBFhF6gQ6sulXgCFBNwFlmJgiU/h6MHsjoh4wgylglhrzNlskcaJq4L1Rz4NCmbExCQXmPOMK2pilgIjf4i9ANEtoKgXxAgE45999vpzuj9yKjA6ZbSOD0iGSWMXpF1qpVnsANkT+bQRvwdPvB52nL3rWrLX/Vqnb8llzr7f3oV4J1iNATBEq3CYGcI8DkC82b22TVoQPwzjupiUTXeD5LV3ma7FWvHiZwutRHW62QzJk3M8jl9dftAFyUlbk9x4/PTAjeIGMAeKb4DFTGooDjKPGEQOYQoGNOz5426TJW+Lx5ybm7Uy1CFcTEibY+mbpkM+MuLbXVKlSvUM0yfXr4Gu9hrO8gh9xglEbq8CkrX0y0vMlELPXMja6vNWuG7iucqkwI+IgAdb7MmsMEDHRDJ1nRwzJeoV592TJ7oZJk5/TCbNjQDi87Zw7gTFa8eHEkkbdqBfz4Y7yWcned/WOeTxI5wwrwZfXDD7mTJyAti9ADMhASQwiEEKBKhM45JCrqyZls2OFBGbrP7NA0kIkaaCpIVQwTOJgZOFU0TPDwt78BbgkYGN/b3Gu2bveZtnK9ZXajTp1smY880g6RSy9UFQsBEbq+CEIgSAiQmJmQmOR65pkAHWGiCxf5uBhKZx2mTuMMnvcz6QKdeujcM3++d1ApekXSQ9KQOLdubUW3natjJk5nliHKWVICTJqUWqahXMmfpXZF6FkCWs0IAU8EPv007IrOZA2Ma2J01yRfOvPQXZ5u8yRuEhu9MJncmKFdn3suMftq6tPp+OMkcurkg1qWLAnLy8ToXJwNirNSADEToQdwUCRSESHA2TaTJhx0kK3rZpo0plIjoTNgFQNXGfKlF2a7dnbcEVq8JKNq4MuBCYxNXdwy0mEQC2XlLxX2lXLS8mbq1GDr9AOCowg9IAMhMYoMAerJH3oIoB6YpEW1CT0anRELmeqMC38kXuqOE1kQdYORadqcRH7RRQCDagWtkMgZkfGMM8JETtPKIC/OBgxDEXrABkTiFDgCJC2aCDoJ1uxTp82cm0zysHx5+l6YfAmYurmtXz+YliDE5MUXgdNPt+VlkC+aT6b6Aivwr5BX90ToXujomhBIFwGSFdOk0WqF+m4nwXL//POBKVMAhnP1KxfmZ5+Vb8dpophun/x6ntjQXJLRGIlF7drAvfeKyNPAV4SeBnh6VAiUQ4CqDCZNmDbNTlxM08NoEqdrPYNG+a32oD4+2m2fHpRBKyRyWumYF9wxx9jhDDIRlyZofc+wPCL0DAOs6osAAdpt3323HZ7V6YXJGaeTzAcMADZu9B8QzuypqnG2RcehoBUSOa1xTjnFlrVOHfuXi4jct5ESofsGpSoqSgSo+zWxUI47znYC+stfABIqbcJJslQp0PXep+LM4jOrY79IIqdtetAKiXzhQuDkk21ZaZZZVgbs2hU0SfNenrQJffLkyWjatCmaNWuGvn374qeohQxmfx8xYgTq16+PFi1aYGUCzgteQuU94upAYSBAdQlja9OTs1kz4MMP7X6tXWtnjSeRc4b+6KNhe3Ifem7ybI447/oIIt/ctgPASIxBKiTyZ54BTjrJlpVxY2jZIyLP2Ch5cWfc4FwbN25EaWkpftxnVtS7d2/MmjUrQtjnnnsO5557Lkjsy5cvxyn8uRWneAkV51FdFgKZR4DZ4E2I1v79bXtwxhG56SY7+THjhzNWeQYcYC4fdl8EkW+pWAUtRj2OthNezny/E22BRP700+FfKAwoRtPJoMZOT7RfeXCfF3cmROi1a9fGN998gz179qB79+5YzFVrRxkyZAgee+yx0JmGDRviizixIryEClWkHSGQCwTeeAOg7peOQIwfzpn6n/9sO79wVt6vH/D55/5LxjqdOvIKFdBuyIOoO2ah9Skds9D/NpOtkUTOkAMnnGDLWq8eMHOmiDxZHNO434s74xI62506dSoqVqyI6tWr49JLLy0nCkl+GSOj7SudOnXCm1zhjyplZWVWLF8KVIf/MCpCIEgIkKyYWIJETh0wif2f/wyrE/jLk7bjfhd6gzJCooPM+/YdHyJyQ+g5naHzpfbUUwAjNFJO2rvzl7pm5H5/G+LWlxahf/vtt+jYsSO2bNmC3bt3o1evXpgTtbrerVu3coT+FhO2ehQvoTwe0yUhkBkESKqceZOsqGphcghm9uExnWD4nffbBJH1RSeaKCuD0aEbIue28dhF1vnMdN6jVsr45JPhYGJcFJ49O3i6fI8uFNolL+6MO0N/4oknMHjw4BAms2fPxtChQ0PH3JHKJQIOHeQbAgwv27SpvfhJCxLqyRmelh+Gq00mnkqifZ8wIWJGjhEjIhZWnVYunJnzOKuFRM5YMybODH9B8KUWtEXZrIISjMbSIvQVK1ZYFi47d+60Fj0HDhyIaXSocJSFCxdGLIqeTNOlOMVLqDiP6rIQ8A8BxhBnYgmaJTJzD2fjnJVzdp4Jz0vqn1m/+TCmSZAsQkjkxIRWPZSRcWceecQ/D1f/Rq5oa/LizrgzdKJ2yy23oFGjRpbZYv/+/fHzzz9jxowZ1ofXad0ybNgw1KtXD82bN3fVn0ej7yVU9L06FgK+I0ASHTnSJi2GqjVETvM76s39LvQsNSTOLTMMbd3qdyup10fHpb/+1f6lQvkaNwZo6OBXqILUJdOTUQh4cWdChB5Vny+HXkL50oAqEQKxENiwIRxbxJAsw7fSkoUzVD/L5s22Kse0w+1HH/nZQnp1kbBJ3E2a2C8cqp5I7CLy9HDN4NNe3ClCzyDwqjqACNDr05l/k/HHqTP3O1clne+MF6kh8+efDw4gJGyqUjgTp3xUsVDV4vcLLTg9LhhJROgFM5TqSMoIkKhuuy1S7XHxxQC9Pv0sNH1kflBD4twy0mJQChc1ubhpzCSZj5SLnyLyoIxQXDlE6HEh0g0FjQC9PqtVC5MsF/qWLvW/yzQWcBL5oEERliv+N5hEjSRymhvS7JAy0nqF5ogi8iRADMatIvRgjIOkyAUC0VYlTDyRJInFNSF84YVIIqcXZVS8o1x03WqTRM61gQYNbBnpGMT8oklikDP51XA5BETo5SDRiYJHgLGHuNBpZsydOwPbtyfdbU8nH9qvm/rNNk7Ii6QFSPUBenDSJZ8enZTt+ONtl30ReaqIBuY5EXpghkKCZBwB6rCj07/F8Vr2kolOPU6PTe63GvkYdhx8WCSZMxtREAqJnEGyGGOFRM5fCwyiRVxUCgIBEXpBDKM6ERcBxg9y6sqZfDnNGSkDYhlCr3/dAqyovc/hxszIGd8kCIV29Qxby/C1lO3EE+2wtiLyIIyOrzKI0H2FU5UFDoFNm4Df/CZyxhwVETRVma0Z+uhn8acTe0bU/0CXcDiMVOv25TkSORNJMJgYiZyOUUw0ISL3Bd4gViJCD+KoSKb0EeDC45132tERzYyZZnh0HPKpvH3LXRFE/myjM9DkpueyH1sluj8kcialZtRS9p2RIJn6TUQejVTBHYvQC25Ii7xDJK25c8PqBUPmV1/tXzjXV16JIPL11Y5G02vmWkkmsh4oyznczM3JEL9Musx+n3qqnYxZRO5EqaD3RegFPbzpdS6uSV561fv/NBcf27WLIFsruBadY/won30WWTdJMxNBupKVlUR+3312yjvKxBymNJcUkSeLZN7fL0LP+yHMTAc8TfIy02TqtX75JcAwzszvyYVP5vIksdFlfdWq1Os1T27bFmnmyLozkczCtJfolmql6dPDwcNOPx1g+AIReaIIFtx9IvSCG1J/OuRmkkeLDp4PTCGh/eEPQKVKwIEH2oufnJ2ScE2uz3SEZUwTkzuUdfLDGCe5Luw3PU9r1bJlYpjdl14Sked6XALQvgg9AIMQRBGcJnnGNI/bwOSupEcjkw+TZHv2BB59NDLXZ7qzVAblMiTOLZNb5LrQIWrq1PCvBaqXXn5ZRJ7rcQlQ+yL0AA1GkEQJ7Ayd6d86dLDJlioVqhioP+YMneZ5Lvlqk8KVLwYnkXOGnutMPDt3ApMnAzVr2rK1bw8sWZJUt3RzcSAgQi+OcU66l4HToTN2+BVXhPXktOagbpuJyUnA3boB33yTdD9DD6xYEUnkDA3A+nNZSOSTJgElJbZsHTsCtLBREQIxEBChxwBGp2HZU3OmTjULtzkxyaMFx8SJtp78gAOAa64Bvv0WMLk+mVHojjtS9/r8/PNIIufL4dNPczv8zFN6113AkUfasnXqBLz6am5lUut5gYAIPS+GqQiFpA58wYJwAKnu3cMWKybXZ40a9mJgKvCQNE24WKNiybUagzLx5cV+USaGJ1i2LJXe6ZkiRUCEXqQDH+huv/8+cNZZNqkx7RltqlmcuT7btk3N65PxW3r3jpyVP/hgbuFgRiRa6zAZNYmc0R8zkbs0t71U61lAQISeBZDVRIIIbNkCXHklQDVK1arAvfeGFySpGjntNJvwUvX6HD8+kshHjMithQhD9k6YEA4ads45wOuvJwiWbhMC5REQoZfHRGeyjQBn3lz8q1wZ2H9/YOTIyAVOWrJw9vqrX9kp0ZKVLzqRxZln2rP9ZOvx6/7vv7fjzPClxRk5LWmC4KjkV/9UT84QEKHnDHo1bHk0PvNMWJd97rnAxx+HgaF6hLk+6QGaitcnTRyNfpxbvhCYci5XhUR+++32rw/KQ8ucf/0rV9Ko3QJEQIRegIOaF1364ANbV0xiY3b56Kz3JF4SPK8PGABwwTDRwlAAfAnwWfP56KNEn/b/Ppo//v73wBFH2PL06AG88Yb/7ajGokdAhF70X4EsA7B1KzBsmK0nr1IFuOee8lEQOWtl6NeDDrLDwCbq9UmXeGbhMSTO7aJFWe6go7nvvgNuvRVgPynLeeel7/jkqF67QiAaARF6NCI6zgwCTH82ZYpNbtSTDx9eXv1B4k7F65PPDRoUSeR0kc9VIZGPG2evCZDIe/UCVq7MlTRqt4gQEKEX+GAHIgQukys0amQTbpcuwIcflkedpnupeH1yhu+ckZPYE53Rl5civTN0eLr5ZuDww22Zzj8fCEo+0fR6pqfzBAERep4MVCpi5tx9n3prowdv2DB2+jMuhNLePBmvT6pSnEROVQtVLrkoDDkwdmyYyC+4AOCCrIoQyDICIvQsA57N5nIWYIsERxtvqlZoisjAUjRNdCuPPw5UrGh7RzIEbLxC8ncSOfe5CJqLwoXb3/3ODktAOS68EHjvvVxIojaFgIWACL2AvwhZD4FLPTnjdNOag7PtoUMBLoK6FRI8SZ9ESK/PjRvd7gqfI3ky7rmTzHOlzmCfbrzRNoOkNQ09T+ndqiIEcoyACD3HA5DJ5rM6Q6cKpEkTm3Dptu9FcE6vTwbb4osgViHx0xHISeRPPRXr7syepyfrmDH2LwoSeZ8+7usBmZVCtQuBmAikReirVq1Cq1atQp9KlSphCi0ZHOga/cAAABtVSURBVGXbtm3o0aMHWrZsiaZNm2LmzJmOq+67XkK5P6GzbghkRYfOqId0kCHhNmgAPP2096Jkol6fXNg0M3hD5nfe6dbNzJ/76ivg+uvDRN63L5BLu/bM91gt5CkCXtxZIZk+7d27FyUlJVi3bl3EY3feeSdGjx5tnduyZQuOOOII7IqlT933pJdQEZXrIC4CGbNyoUXHqFEAQ9rSquPuuwGGuo1VkvH6fOihyBn5xRenHh43ljyJnCeRX3cdcNhhtqMSrXCcnqyJ1KF7hEAWEfDizqQIffHixWhLXWhUGT9+PIYOHYpffvkFa9asQf369fFf/nN7FC+hPB7TpWwgwOw9DJrFOCTUkw8ZApD4vAp1zgw8xZm2l9cnkzeY2Ti3DG+bjIeolwzJXOMi67XXAoceavexXz87/noydeheIZADBLy4MylCHzRoEKYzA3lU2b59Ozp06ICaNWuiYsWKWLhwYdQd9mFZWRkoDD916CWoEjwEqC5hTBWSLbPnvPtufBnp9XnMMd5en0wo4SRy7lPPnu1CIqdO3xA5Xz6rVmVbCrUnBFJGwBdCpwqlWrVq2Mw0YVFl7ty5uPrqq60Z+ieffILS0lJ8zyBFHsVLKI/HdClTCKxebbutk2jr1QO4KBnPeYfX43l9MsaJyZNpCD0XUQe/+MJWHx1yiD0jHzgQYJ9VhECeIeDFnQnP0BcsWIDODMrvUrp164alS5eGrnTs2BH/ihNhzkuoUEXayTwCVK/QPI8JmGky+Mc/euvJjUTxvD5ZL0PGGhLnlsmZs102bbJD9ZLIaTP/m98An3ySbSnUnhDwDQEv7kyY0Pv06RPTeuXKK6/EOMa1AKwZfK1atbA1lm3yvm55CeVbz1WRNwJMvmCsV0h0Lr++XCuI5/XJF4STyOmYk+1Cm/errgIOPtgmcoYLyHUe0WxjoPYKEgEv7kyI0Hfu3ImqVauC5ommzJgxA/ywbNq0yZq9N2/eHM2aNcOcOXPMbTG3XkLFfEgX/ENg/XqgRQub7B54IPF6vbw+OQN3EjlfFnv3Jl63H3du2GAHBWMUR1rnXH458NlnftSsOoRAIBDw4s6ECD0TvfASKhPtqU4HAozTXVJimyJyETSR4uX1uWJFJJEfdRTgePknUn3a93CBlV6rhsivuAJYsybtalWBEAgaAl7cKUIP2mhlWp4nn7QtPEpLE3ecIVmeeqpN2k6vT553zsi5n221Bn9pMEcp1wD4oYnl2rWZRlH1C4GcISBCzxn0AWqYFinMOk/SZSLmeHblRvTFi+0Ex1wwnTvXPku7cXqMOsl8yRLzRHa2dG4jeRsiJ6lHObxlRxC1IgSyi4AIPYt4Z8xrM50+UF0yeLBNwIxN8uOP8Wtz8/rkOQapchI5PT6zWTj7pjqF+nGqV6hm4SxdRQgUCQIi9CwNdFbiqiTbF7rv00GIJMzEDHE8eK3q3bw+GWPFSeQMCRDPTj1ZWb3u58ImFzgNkTPFXS4ck7xk1DUhkAUEROhZAJlNZDXyYSJ9or01k05QLfGXvyTyhJ2h3un1OW9eJJG3a+cdOTGxVhK/i0TOXxe0IacJIk0RacmiIgSKFAERepYGPuuxyb36RUevatXseCyvvup1p32Ns23GbyH5160LRAfPog6d8cqzVfgyom28IfKRI+PHU8+WbGpHCOQQARF6lsAPzAydfgDUL3N2nohXJL0+L7nEnomfeGLkjJxqlmxGH/zPfwC65ZPI6d1J1Q69PVWEgBCwEBChZ+mLkFMdOr0+uThIPTlJmHpzpomLV0jWJmmFU0fOfSa0yFZhXBUGymJ0RwbOonkk46+oCAEhEIGACD0Cjswe5MTKhXk6nWRMnXOcePQWCsbr0/ks9++5J7MgOWtn8gyGrjVEzpC2ucof6pRL+0IgoAiI0AM6ML6IxWiHTkKmrXk86xOn16fzWVqRxHvWF6Fhq3GYTIJp3phcgkkmEo0l45cMqkcI5CECIvQ8HLSERCYBOwnZOP54Pezm3dm6NfDTT15P+XeNad2Y3s0QOdO+Jerk5J8UqkkI5C0CIvQsDl1WVC60JW/cOJLM44QrtiCYOjXyGZJqttQbH35oJ1xmmxUr2omYmZBZRQgIgaQQEKEnBVfqN2dlUZRens5Z+ZFHxveU5AzY+Qz333kn9Y4m8+QHH9jepSTyX/0KuOEGIE5o5WSq171CoNgQEKFnacQzbrZIHbOTmGnJ4pUZirry6Jl8tpJMvP8+cNFFtry0YWdM9GzasWdpzNWMEMg2AiL0LCGeUcci5vZ0kjljmDArkFvhwiY9Kp3301koGwuelPOCC8JEPnZsYuaTbv3QOSEgBMohIEIvB0lmTmRshs78nk5ynjYtdgcefDDyXj7H+OeZLm+/DZx/vt324Yfb9vCJ2MFnWi7VLwQKDAERepYGNCM69N//PpKgn3vOvTcMX+skfe536JD52fHKlUCvXnbblSsDTEXIgGAqQkAIZAQBEXpGYHWv1DcrF6ZuM0RpiPq998o3Std+c925ZXTERCIrlq8xsTNvvQWcd57ddpUqwK23At99l9izuksICIGUERChpwxdjh5kbJXatSOJOtoNninemEbOSeLcr1EDoOdopsqbbwI9eoSJnL8gsp1uLlN9U71CIA8QEKHnwSCFRGRoWCdJN2sG7NwZumwthJ5zTuQ91avbx23bZi4iIe3cmfSZsh1xBHD77SLy8KhoTwhkDQERetagTrMh6qOdZM5gVU61CW24o6+75fpMU4yIx5kAumtXu92qVQGqcrxMJSMe1oEQEAJ+IyBC9xvRTNS3YEEkWU+eHG7lkUcir3XvDjz/fPlcn+En0t97/XXA/BJgXPXx4wFGdFQRAkIgpwiI0HMKf5zGaRt+112RhG3C1i5fHnn+6KNtCxIuQNLzsnlzgGFn/SyvvQZ06WK3S1UOg31Rp68iBIRAIBAQoQdiGFyE2L3bzsrjVKMwPjnjmjvPcZ+p2NxyfbpUm9KpZcuAs8+22+XC6sSJIvKUgNRDQiCzCIjQM4tvarXTxO+UUyKJe906oH79yHOvvGLXT122yfVZVuaf1yfT03XqZLfJuDD8tbBjR2p90lNCQAhkHAEResYhTrKBNWvsGODOWbgxBTTnHn7YrpQqGZPrs7QUoP23H4UvCsaCYXs0f5w0KdKaxo82VIcQEAK+IyBC9x3SNCrkYqMhbbctc2iamCvOXJ9cCPXDlZ4epe3b2zLUrAlw8dVpFplG1/SoEBACmUdAhJ55jBNr4a9/jU3mJFnq1E0xuT6Zmi1dr0++IF5+GWjXzm7/qKMAxkZnKF4VISAE8goBEXquh4uEGh2TxczOGf8kOqwsiZ9JINL1+mS79Bo944wwkTNfqIg8198ItS8EUkYgLUJftWoVWrVqFfpUqlQJU6ZMKSfMkiVLrHuaNm2KdpwJxileQsV5NL8u//wz0L+/+8ycs3BnYfxyE/b29NNT9/okkb/4IsA6+OKgueP06dlLM+fsk/aFgBDwFQEv7qyQTEt79+5FSUkJ1tEaw1G+++47NGnSBOtpbgemiPzKcdV910so9yfy8CzNDI0np5mRc/vCC+U7Q+zMvcx871S/lL/b/QyJfPFioE0bm8gZD4YLqtnKF+oulc4KASHgIwJe3JkUoS9evBhtGS8kqtx333246aabos56H3oJ5f1knlxdtar8rPyPf3QXniRMb0xm9kkk0XN0LSRyOiOddprdJs0b778f4K8DFSEgBAoKAS/uTIrQBw0ahOn86R5VRo0ahWHDhqF9+/Zo3bo1Zs+eHXWHfVhWVgYKw0+dOnVc7ymIk3ffXZ7MnTFZTCd5Lh2vTxI546Mbe3Zi+sADInKDr7ZCoAAR8IXQd+3ahWrVqmEz81pGleHDh+PUU0/Fjh07sHXrVjRo0ACr47ikewkVVX1+Hc6fH0nmXJB0K+l4fZLIFy4ETj7Zbovp5ehsRB28ihAQAgWNgBd3JjxDX7BgATp37uwK1IQJEzCOmWr2lcGDB+OJJ54wh65bL6FcH8iHk9FBtG680V3qVL0+SeTPPAOcdJJN5HQ0eughEbk7yjorBAoSAS/uTJjQ+/Tpg5kzZ7oC9PHHH6NTp07Ys2cPdu7ciWbNmuGDDz5wvdec9BLK3JNXW6o6nAufJPfoQkKmyurAA4FkvD753NNPA61b220ceyxAT9JUFk6jZdKxEBACeYWAF3cmROgk6apVq2KbIzPNjBkzwI8pEydOtCxdSOZuZo3mPrP1EsrckzdbRiR0kjm9QaMLvT779rXvS9Trk0ROFc4JJ9jP1asH8KUqIo9GV8dCoGgQ8OLOhAg9E0h5CZWJ9jJSJwmXJoZOMmecluiSrNcnF0ufegpo1cqumwG7Zs0SkUfjqmMhUIQIeHGnCD3VLwTJvHfvSDKP9vhk3cl4fZLIn3wSaNnSrve44wBaDO3Zk6qUek4ICIECQ6BgCH3+2xvRdsLLKB2z0NryOBMlbjt79wLHHx8m80MOKe9On4zXJ4mci8gtWth1NmwIzJkjIs/E4KpOIZDnCBQEoZNkG49dhLpjFoY+PPab1OO2Q/31/vuHyZzu9dEz6ES9Pknkf/sbwETQVNs0agRwMZUvDBUhIASEgAsCBUHonJk7ydzs87yfxbMdutA79eXDh4dD3Roh6NZvvD6pPnErJGyqYpo2tetr3Bh47DERuRtWOicEhEAEAgVB6FSzGBJ3bnnezxKrnRajHo8k82nTIpslSdMW3yvXJ+8hcTdpYtdFQiexa0YeiaWOhIAQiIlAQRC658w5ZteTv+DWzulX/imSzBcsiKyYXp8msfKAAeVTuJGwqUrhTJwzfKpYqGqhykVFCAgBIZAEAgVB6HF120kA4nVrdDu9BkyKJPPXXot83Mvrk7p1Lm5ykZNE3ry5vfgpIo/EUEdCQAgkjEBBEDp7S7LlDDpbVi7De46JJPN//zsMOs0WY3l9kshpbkizQxI5rVeoTxeRh/HTnhAQAikhUDCEnlLvU32IoW6dC6CbNoVriuX1SSL/85+BBg3sZ+kYNG+eiDyMnPaEgBBIEwERerIAMra7k8wdIQ/g9PocP94ma5oy0iWfHp18jjbqdNnXjDxZ5HW/EBACcRAQoccBKOLyiBFhMmdYWmeSCFqomFyfTLpMImeQLAbLIpEz5gqDaFEdoyIEhIAQyAACIvREQe3XL0zmHTuGZ9jRXp9r19phaxkxkUR+4ol2WFsReaJI6z4hIARSRECEnghwZ58dJvPf/jY8y3Z6fTKBM3N0cuZOImdcciaaEJEngrDuEQJCwAcEROjxQDQemyTpO+4I3228Pg8+GGByD6Z44z1M+cbUbyLyMFbaEwJCICsIiNBjwUxCJkGbj8mFarw+zXmzPfVUOxmziDwWojovBIRAhhEQobsBTAsUQ9TcvviifRe9Ptu3j7zWpg3A2bqI3A1JnRMCQiCLCIjQo8GOJvO337bveOWVSCJnJEUSvYg8GkEdCwEhkCMEROhO4KPJfN06O5Y5Q9eaGfuhhwIvvSQid+KmfSEgBAKBgAjdDAM9OQ1pc7txo70I6jxHF33NyA1i2goBIRAwBEToHBA6ATmJm16ezmNGS5RnZ8C+uhJHCAiBaARE6HQMcpJ39eqRx/T6VBECQkAI5AECxU3oNEF0krlzn4ueVLuoCAEhIATyBIHiJXTqwp0EbqIg8ty119pqmDwZRIkpBISAECACxUvoV18dJnRGUIyX61PfFyEgBIRAwBEoTkKnCz9n4n36ADffbOf6ZKKJ1asDPlwSTwgIASEQG4HiI3RjwdK1K2CCbg0cCOzcGRslXRECQkAI5AECxUXof/iDPTNv0AA/1ijBzwcciBvOuQptx79kpbDLg/GSiEJACAiBmAgUD6FPnBjSmf+y337YULkE3S+birpjFlqfxmMXidRjfk10QQgIgXxAoDgI/e67Q2RO3fmyxqehxajHQ2RuSJ1JplWEgBAQAvmKQOET+uTJYTLfbz9g/HgcO/qZcmROUi8dszBfx1FyCwEhIATSM1tctWoVWrVqFfpUqlQJU6ZMcYX1jTfewH777Ye5c+e6Xnee9HrLOO+Luz91apjMjzwS2Of1yZm4mZU7t5qhx0VUNwgBIRBgBLy4s0Iycu/duxclJSVYxwiFUYXXOnbsiK5du2aP0KdNC5N5lNfn/Lc3gjpzJ5lLhx41aDoUAkIg7xDwjdAXL16Mtm3bugLAWfu9996Lyy67LDuEztyexgs0htcnSZ0zcqpZuOWxihAQAkIgnxHwjdAHDRqE6dOnl8Ni48aNaNeuHThL9yL0srIyS/9DgeowP2eq5b77bDKvVAmYNy/VWvScEBACQiDvEPCF0Hft2oVq1aph8+bN5QC46KKLsHz5cuu8F6E7H/QSynlfuf333rPJPAmvT83Uy6GoE0JACOQpAl7cmbAOfcGCBejMzPcupbS0FHXr1rU+FStWRI0aNTB//nyXO8OnvIQK3+Wy99NPwMyZCXt9SpfugqFOCQEhkLcIeHFnwoTep08fzCSRxikZn6HHaT/6sqxdohHRsRAQAvmMQNqEvnPnTlStWhXbtm0L4TBjxgzwE12CRuhcEHVauph92aNHj5yOhYAQyAcE0ib0THTSSyg/29MM3U80VZcQEAK5RsCLOxNWufjdCS+h/GxLOnQ/0VRdQkAI5BoBL+4seEIn+LJyyfVXUO0LASHgFwJFT+h+Aal6hIAQEAK5RkCEnusRUPtCQAgIAZ8QEKH7BKSqEQJCQAjkGgEReq5HQO0LASEgBHxCQITuE5CqRggIASGQawRE6LkeAbUvBISAEPAJgaIndJkt+vRNUjVCQAjkHIGiJnQ5FuX8+ycBhIAQ8BGBoiZ0uf77+E1SVUJACOQcgaImdAXnyvn3TwIIASHgIwJFTeiaofv4TVJVQkAI5ByBoiZ06dBz/v2TAEJACPiIQFETOnGUlYuP3yZVJQSEQE4RKHpCzyn6alwICAEh4CMCInQfwVRVQkAICIFcIiBCzyX6alsICAEh4CMCInQfwVRVQkAICIFcIiBCzyX6alsICAEh4CMCInQfwVRVQkAICIFcIiBCj4G+zBljAKPTQkAIBBYBEbrL0MjhyAUUnRICQiDwCIjQXYZIIQFcQNEpISAEAo+ACN1liBS0ywUUnRICQiDwCIjQXYZIM3QXUHRKCAiBwCMgQncZIunQXUDRKSEgBAKPgAg9xhDJyiUGMDotBIRAYBEQoQd2aCSYEBACQiA5BNIi9FWrVqFVq1ahT6VKlTBlypQICR555BG0aNHC+rRp0wbvvvtuxHW3Ay+h3O7XOSEgBISAEAC8uLNCMgDt3bsXJSUlWLduXcRjr732Gr799lvr3PPPP49TTjkl4rrbgZdQbvfrnBAQAkJACPhI6IsXL0bbtm09MSWx16pVy/MeXhShx4VINwgBISAEyiHgxZ1JzdAHDRqE6dOnl2vAeeKuu+7C5Zdf7jwV2i8rK7OInALVqVMndF47QkAICAEhkBgCvhD6rl27UK1aNWzevDlmq//4xz/QuHFjfP311zHvMRe8hDL3aCsEhIAQEAKRCHhxZ8Iz9AULFqBz586RNTuO3nvvPdSrVw+rV692nI29y5cDBSvUD3+BFGrfovtVLH0tln5yfIulr/nYT3JnrJIwoffp0wczZ850rWf9+vWoX78+uDiqYiPAf4piKcXS12LpJ7+3xdLXQutnQoS+c+dOVK1aFdu2bQtx1IwZM8APC3XmVapUCZk2FhpIoU4nsVNMGBRLX4uln/yaF0tfC62fCRF6EjymW/chUGhfFK+BLZa+Fks/OdbF0tdC66cI3Yup0rhGi55iKcXS12LpJ7+3xdLXQuunCL1YWFf9FAJCoOAREKEX/BCrg0JACBQLAiL0Yhlp9VMICIGCR0CEnsIQf/755+jQoYPlRNW0aVNMnTrVquWbb77B2WefjQYNGlhbE9+GF8ePH2+ZdjZs2BAvvPBCCq3m7hHG8Dn++OPRvXv3gu7nd999hwsvvBCNGjWyxvb1119HoY7p5MmTwe9us2bN0LdvX/z0008F01d6tNeoUcPqm/mvSWUc33rrLTRv3tz6vx0xYgR++eUXU11gtyL0FIbmiy++wMqVK60nt2/fjuOOOw4fffQRrr/+ekyYMME6z+3o0aOtfV5r2bIlfv75Z6xZs8ZywCJJ5kuZNGkSLrnkkhChF2o/Bw4ciIceesgaFnpGk+ALsa8bN25EaWkpfvzxR6uvvXv3xqxZswqmr6+++qr1/8mXlSmpjOPJJ58MvtRJ5Oeeey4YeDDoRYTuwwj17NkTL774Ijj7JtmzcMtjFs7O+TGlS5cu1hfFHAd5u2HDBnTq1Akvv/xyiNALsZ/ff/+9RXLRs7BC7CsJvXbt2taMfM+ePda4MvBeIfV17dq1ETP0ZPvG/1/+UjPlsccew5AhQ8xhYLci9DSHhl+cY445BiSEypUrR9RGZyuW4cOHY86cOaFrgwcPxty5c0PHQd6hCoI/PZcsWRIi9ELs5zvvvAPOyC677DJLvURnuR07dhTkmPL7RjVhxYoVUb16dVx66aXWV7CQxjWa0JPt25tvvomzzjor9K+5dOnS0Pc/dDKAOyL0NAblhx9+QOvWrTFv3jyrllhfmmHDhpUj9CeffDKNlrPz6LPPPouhQ4dajSVC6PnaT3aQ/8D7778/VqxYYfV35MiRGDt2bExCz+e+cm2nY8eO2LJlC3bv3o1evXpZ389C+v4mSuixxvGNN94oR+g9evTIzj9eGq2I0FMEj/8IVJ1Qv2xKsj/rzHNB3d5www04+uijUbduXSuxyaGHHop+/foV1E9zg/2XX35p9dMcc0bWrVu3guzrE088Af5KNGX27NnWi7uQvr/RhJ5s36RyMd+OIthSzzpgwACMGjUqorfXXXddxKIoF2JYPvzww4hF0WOPPRb5tCjKPjhn6IXazzPOOANMucgybtw4sJ+F2Ff+CqGFC2M08bvMxeBp06YVVF+jCT2VcTzppJOwfPny0KLoc889Z303gvxHM/QURmfZsmWoUKGClUPV5FvlYDMOPBcQabbILU2lTLnjjjss6xbOFPJhtdzIbbZOQi/UflKPztgezI9LNQRVE4Xa11tuucVa9KMlSP/+/S0LrELpK80wa9asiQMOOMD6hfnwww+nNI5UwxEfhgXnOlj0grn53wjSVoQepNGQLEJACAiBNBAQoacBnh4VAkJACAQJARF6kEZDsggBISAE0kBAhJ4GeHpUCAgBIRAkBEToQRoNySIEhIAQSAMBEXoa4OlRISAEhECQEBChB2k0JIsQEAJCIA0EROhpgKdHhYAQEAJBQuD/AZoPIBUCCSWGAAAAAElFTkSuQmCC)"
   ]
  },
  {
   "cell_type": "code",
   "execution_count": null,
   "metadata": {
    "id": "Eq6dTUkUo4yt"
   },
   "outputs": [],
   "source": [
    "# Error calculation\n",
    "res4 = wcat.CC - pred4_at\n",
    "res_sqr4 = res4 * res4\n",
    "mse4 = np.mean(res_sqr4)\n",
    "rmse4 = np.sqrt(mse4)\n",
    "rmse4\n",
    "\n",
    "##240.82777570404056\n",
    "# Choose the best model using RMSE\n",
    "data = {\"MODEL\":pd.Series([\"SLR\", \"Log model\", \"Exp model\", \"Poly model\"]), \"RMSE\":pd.Series([rmse1, rmse2, rmse3, rmse4])}\n",
    "table_rmse = pd.DataFrame(data)\n",
    "table_rmse\n",
    "###################\n",
    "# The best model\n",
    "from sklearn.model_selection import train_test_split\n",
    "train, test = train_test_split(wcat, test_size = 0.2)\n",
    "\n",
    "finalmodel = smf.ols('np.log(CC) ~ WG + I(WG*WG)', data = train).fit()\n",
    "finalmodel.summary()\n",
    "\n",
    "###                            OLS Regression Results                            \n",
    "==============================================================================\n",
    "Dep. Variable:             np.log(CC)   R-squared:                       0.838\n",
    "Model:                            OLS   Adj. R-squared:                  0.797\n",
    "Method:                 Least Squares   F-statistic:                     20.63\n",
    "Date:                Fri, 29 Oct 2021   Prob (F-statistic):           0.000696\n",
    "Time:                        16:12:31   Log-Likelihood:                 7.0940\n",
    "No. Observations:                  11   AIC:                            -8.188\n",
    "Df Residuals:                       8   BIC:                            -6.994\n",
    "Df Model:                           2                                         \n",
    "Covariance Type:            nonrobust                                         \n",
    "==============================================================================\n",
    "                 coef    std err          t      P>|t|      [0.025      0.975]\n",
    "------------------------------------------------------------------------------\n",
    "Intercept      7.2702      0.099     73.452      0.000       7.042       7.498\n",
    "WG             0.0017      0.001      3.164      0.013       0.000       0.003\n",
    "I(WG * WG) -7.513e-07   4.81e-07     -1.561      0.157   -1.86e-06    3.58e-07\n",
    "==============================================================================\n",
    "Omnibus:                        0.807   Durbin-Watson:                   0.994\n",
    "Prob(Omnibus):                  0.668   Jarque-Bera (JB):                0.615\n",
    "Skew:                          -0.134   Prob(JB):                        0.735\n",
    "Kurtosis:                       1.873   Cond. No.                     9.07e+05\n",
    "==============================================================================\n",
    "\n",
    "Notes:\n",
    "[1] Standard Errors assume that the covariance matrix of the errors is correctly specified.\n",
    "[2] The condition number is large, 9.07e+05. This might indicate that there are\n",
    "strong multicollinearity or other numerical problems.\n",
    "\n",
    "# Predict on test data\n",
    "test_pred = finalmodel.predict(pd.DataFrame(test))\n",
    "pred_test_CC = np.exp(test_pred)\n",
    "pred_test_CC\n",
    "\n",
    "# Model Evaluation on Test data\n",
    "test_res = test.CC - pred_test_CC\n",
    "test_sqrs = test_res * test_res\n",
    "test_mse = np.mean(test_sqrs)\n",
    "test_rmse = np.sqrt(test_mse)\n",
    "test_rmse\n",
    "\n",
    "\n",
    "# Prediction on train data\n",
    "train_pred = finalmodel.predict(pd.DataFrame(train))\n",
    "pred_train_CC = np.exp(train_pred)\n",
    "pred_train_CC\n",
    "##3     1959.000895\n",
    "11    1823.167767\n",
    "2     3611.240780\n",
    "dtype: float64\n",
    "\n",
    "# Model Evaluation on train data\n",
    "train_res = train.CC- pred_train_CC\n",
    "train_sqrs = train_res * train_res\n",
    "train_mse = np.mean(train_sqrs)\n",
    "train_rmse = np.sqrt(train_mse)\n",
    "train_rmse\n",
    "190.2686061886463\n",
    "\n",
    "Result: the data interpretation from the graphs and calculations above indicates that the proportion of weight gain and calories consumed by an individual falls\n",
    "under correlation coefficient.\n",
    "\n"
   ]
  }
 ],
 "metadata": {
  "colab": {
   "authorship_tag": "ABX9TyPKE+w3VC/mxWmEoOD+MXq7",
   "collapsed_sections": [],
   "name": "SLR 1.ipynb",
   "provenance": []
  },
  "kernelspec": {
   "display_name": "Python 3 (ipykernel)",
   "language": "python",
   "name": "python3"
  },
  "language_info": {
   "codemirror_mode": {
    "name": "ipython",
    "version": 3
   },
   "file_extension": ".py",
   "mimetype": "text/x-python",
   "name": "python",
   "nbconvert_exporter": "python",
   "pygments_lexer": "ipython3",
   "version": "3.9.7"
  }
 },
 "nbformat": 4,
 "nbformat_minor": 1
}
